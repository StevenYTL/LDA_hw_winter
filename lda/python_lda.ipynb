{
 "cells": [
  {
   "cell_type": "code",
   "execution_count": 82,
   "metadata": {},
   "outputs": [],
   "source": [
    "# 資料集前處理(轉成lda套件需要的Input)\n",
    "from sklearn.feature_extraction.text import CountVectorizer\n",
    "import six.moves.cPickle as pickle\n",
    "\n",
    "# https://stackoverflow.com/questions/27697766/understanding-min-df-and-max-df-in-scikit-countvectorizer\n",
    "vectorizer = CountVectorizer(min_df=1, max_df = 0.9)\n",
    "\n",
    "with open('paras/dataset.pkl', 'rb') as pf:\n",
    "\tdataset = pickle.load(pf)\n",
    "with open('paras/data_title.pkl', 'rb') as pf:\n",
    "\tdata_title = pickle.load(pf)\n",
    "\n",
    "X = vectorizer.fit_transform(dataset) #轉成矩陣\n",
    "\n",
    "vocab = tuple(vectorizer.get_feature_names()) #轉成lda套件需要的格式(tuple)"
   ]
  },
  {
   "cell_type": "code",
   "execution_count": 75,
   "metadata": {},
   "outputs": [
    {
     "name": "stdout",
     "output_type": "stream",
     "text": [
      "type(X): <class 'numpy.ndarray'>\n",
      "shape: (395, 4258)\n",
      "\n",
      "[[ 1  0  1  0  0  0  1  0  0  1]\n",
      " [ 7  0  2  0  0  0  0  1  0  0]\n",
      " [ 0  0  0  1 10  0  4  1  1  0]\n",
      " [ 6  0  1  0  0  0  1  1  1  0]\n",
      " [ 0  0  0  2 14  1  1  0  2  1]]\n",
      "type(vocab): <class 'tuple'>\n",
      "len(vocab): 4258\n",
      "\n",
      "('church', 'pope', 'years', 'people', 'mother', 'last', 'told', 'first', 'world', 'year')\n",
      "type(titles): <class 'tuple'>\n",
      "len(titles): 395\n",
      "\n",
      "('0 UK: Prince Charles spearheads British royal revolution. LONDON 1996-08-20', '1 GERMANY: Historic Dresden church rising from WW2 ashes. DRESDEN, Germany 1996-08-21', \"2 INDIA: Mother Teresa's condition said still unstable. CALCUTTA 1996-08-23\", '3 UK: Palace warns British weekly over Charles pictures. LONDON 1996-08-25', '4 INDIA: Mother Teresa, slightly stronger, blesses nuns. CALCUTTA 1996-08-25')\n"
     ]
    }
   ],
   "source": [
    "# PYPI的lda套件(Gibbs Sampling)\n",
    "# https://github.com/ariddell/lda\n",
    "# https://lda.readthedocs.io/en/latest/\n",
    "import numpy as np\n",
    "import lda\n",
    "import lda.datasets\n",
    " \n",
    "# document-term matrix\n",
    "X = lda.datasets.load_reuters()\n",
    "# X = vectorizer.fit_transform(dataset).toarray()\n",
    "print(\"type(X): {}\".format(type(X)))\n",
    "print(\"shape: {}\\n\".format(X.shape)) #(文件數,詞彙數(V))\n",
    "print(X[:5, :10])\n",
    "\n",
    "# the vocab\n",
    "vocab = lda.datasets.load_reuters_vocab()\n",
    "# vocab = tuple(vectorizer.get_feature_names())\n",
    "print(\"type(vocab): {}\".format(type(vocab)))\n",
    "print(\"len(vocab): {}\\n\".format(len(vocab)))\n",
    "print(vocab[:10])\n",
    " \n",
    "# titles for each story\n",
    "titles = lda.datasets.load_reuters_titles()\n",
    "# titles = data_title\n",
    "print(\"type(titles): {}\".format(type(titles)))\n",
    "print(\"len(titles): {}\\n\".format(len(titles)))\n",
    "print(titles[:5])\n"
   ]
  },
  {
   "cell_type": "code",
   "execution_count": 76,
   "metadata": {},
   "outputs": [
    {
     "name": "stdout",
     "output_type": "stream",
     "text": [
      "doc id: 0 word id: 3117\n",
      "-- count: 2\n",
      "-- word : heir-to-the-throne\n",
      "-- doc  : 0 UK: Prince Charles spearheads British royal revolution. LONDON 1996-08-20\n"
     ]
    }
   ],
   "source": [
    "# X[0,3117] is the number of times that word 3117 occurs in document 0\n",
    "doc_id = 0\n",
    "word_id = 3117\n",
    "print(\"doc id: {} word id: {}\".format(doc_id, word_id))\n",
    "print(\"-- count: {}\".format(X[doc_id, word_id]))\n",
    "print(\"-- word : {}\".format(vocab[word_id]))\n",
    "print(\"-- doc  : {}\".format(titles[doc_id]))\n"
   ]
  },
  {
   "cell_type": "code",
   "execution_count": 83,
   "metadata": {},
   "outputs": [
    {
     "name": "stderr",
     "output_type": "stream",
     "text": [
      "INFO:lda:n_documents: 51\n",
      "INFO:lda:vocab_size: 4194\n",
      "INFO:lda:n_words: 37795\n",
      "INFO:lda:n_topics: 20\n",
      "INFO:lda:n_iter: 500\n",
      "INFO:lda:<0> log likelihood: -438487\n",
      "INFO:lda:<10> log likelihood: -293690\n",
      "INFO:lda:<20> log likelihood: -285986\n",
      "INFO:lda:<30> log likelihood: -282392\n",
      "INFO:lda:<40> log likelihood: -280512\n",
      "INFO:lda:<50> log likelihood: -279105\n",
      "INFO:lda:<60> log likelihood: -277916\n",
      "INFO:lda:<70> log likelihood: -277501\n",
      "INFO:lda:<80> log likelihood: -277511\n",
      "INFO:lda:<90> log likelihood: -276568\n",
      "INFO:lda:<100> log likelihood: -276687\n",
      "INFO:lda:<110> log likelihood: -276135\n",
      "INFO:lda:<120> log likelihood: -275912\n",
      "INFO:lda:<130> log likelihood: -275323\n",
      "INFO:lda:<140> log likelihood: -275135\n",
      "INFO:lda:<150> log likelihood: -274863\n",
      "INFO:lda:<160> log likelihood: -274909\n",
      "INFO:lda:<170> log likelihood: -274516\n",
      "INFO:lda:<180> log likelihood: -274525\n",
      "INFO:lda:<190> log likelihood: -274283\n",
      "INFO:lda:<200> log likelihood: -274301\n",
      "INFO:lda:<210> log likelihood: -273824\n",
      "INFO:lda:<220> log likelihood: -273666\n",
      "INFO:lda:<230> log likelihood: -273667\n",
      "INFO:lda:<240> log likelihood: -273714\n",
      "INFO:lda:<250> log likelihood: -273364\n",
      "INFO:lda:<260> log likelihood: -274290\n",
      "INFO:lda:<270> log likelihood: -274088\n",
      "INFO:lda:<280> log likelihood: -273671\n",
      "INFO:lda:<290> log likelihood: -273231\n",
      "INFO:lda:<300> log likelihood: -273182\n",
      "INFO:lda:<310> log likelihood: -273009\n",
      "INFO:lda:<320> log likelihood: -273139\n",
      "INFO:lda:<330> log likelihood: -273250\n",
      "INFO:lda:<340> log likelihood: -273157\n",
      "INFO:lda:<350> log likelihood: -273355\n",
      "INFO:lda:<360> log likelihood: -273681\n",
      "INFO:lda:<370> log likelihood: -273568\n",
      "INFO:lda:<380> log likelihood: -273674\n",
      "INFO:lda:<390> log likelihood: -273428\n",
      "INFO:lda:<400> log likelihood: -273188\n",
      "INFO:lda:<410> log likelihood: -273687\n",
      "INFO:lda:<420> log likelihood: -273040\n",
      "INFO:lda:<430> log likelihood: -273044\n",
      "INFO:lda:<440> log likelihood: -273247\n",
      "INFO:lda:<450> log likelihood: -272835\n",
      "INFO:lda:<460> log likelihood: -272703\n",
      "INFO:lda:<470> log likelihood: -273124\n",
      "INFO:lda:<480> log likelihood: -273139\n",
      "INFO:lda:<490> log likelihood: -272607\n",
      "INFO:lda:<499> log likelihood: -272962\n"
     ]
    },
    {
     "data": {
      "text/plain": [
       "<lda.lda.LDA at 0x2d19af761d0>"
      ]
     },
     "execution_count": 83,
     "metadata": {},
     "output_type": "execute_result"
    }
   ],
   "source": [
    "# 訓練LDA\n",
    "model = lda.LDA(n_topics=20, n_iter=500, random_state=1, alpha = 50/20., eta = 0.01)\n",
    "model.fit(X)\n",
    "#log likelihood 值越大越好，可測不同k去看哪個結果比較好\n",
    "#其他指標 perplexity、coherent"
   ]
  },
  {
   "cell_type": "code",
   "execution_count": 78,
   "metadata": {},
   "outputs": [
    {
     "name": "stdout",
     "output_type": "stream",
     "text": [
      "type(topic_word): <class 'numpy.ndarray'>\n",
      "shape: (20, 4258)\n",
      "('church', 'pope', 'years', 'people', 'mother')\n",
      "[[4.85939356e-02 2.57097167e-06 2.57097167e-06 2.57097167e-06\n",
      "  2.57097167e-06]\n",
      " [3.06318117e-06 3.06318117e-06 3.06318117e-06 1.96074227e-02\n",
      "  3.06318117e-06]\n",
      " [7.52202880e-04 2.49901289e-06 2.49901289e-06 2.49901289e-06\n",
      "  2.49901289e-06]\n",
      " [2.14152022e-06 2.14152022e-06 2.14152022e-06 2.14152022e-06\n",
      "  2.14152022e-06]\n",
      " [2.67338220e-06 2.67338220e-06 2.67338220e-06 2.67338220e-06\n",
      "  2.67338220e-06]\n",
      " [2.35594570e-06 2.35594570e-06 2.35594570e-06 2.35594570e-06\n",
      "  2.35594570e-06]\n",
      " [2.50652951e-06 2.50652951e-06 2.50652951e-06 2.43158428e-02\n",
      "  2.50652951e-06]\n",
      " [2.64509678e-06 2.64509678e-06 2.64509678e-06 2.64509678e-06\n",
      "  2.64509678e-06]\n",
      " [2.30031391e-03 2.29801589e-06 6.89634570e-03 2.29801589e-06\n",
      "  2.29801589e-06]\n",
      " [1.44753691e-02 2.45303661e-06 2.45303661e-06 2.45303661e-06\n",
      "  2.45303661e-06]\n",
      " [1.64869606e-02 7.89668633e-02 2.03517598e-06 2.03517598e-06\n",
      "  2.03517598e-06]\n",
      " [2.50464612e-06 2.50464612e-06 2.50464612e-06 1.65331690e-02\n",
      "  2.50464612e-06]\n",
      " [1.92693821e-06 1.92693821e-06 6.03150929e-02 1.92693821e-06\n",
      "  1.92693821e-06]\n",
      " [2.02241646e-06 2.02241646e-06 2.02241646e-06 4.85582193e-03\n",
      "  6.63372824e-02]\n",
      " [2.18838493e-06 3.15149314e-02 2.18838493e-06 2.18838493e-06\n",
      "  2.18838493e-06]\n",
      " [2.49464898e-06 2.49464898e-06 2.49464898e-06 6.48858199e-03\n",
      "  2.49464898e-06]\n",
      " [2.56043917e-06 2.56043917e-06 2.56043917e-06 2.56043917e-06\n",
      "  2.56043917e-06]\n",
      " [7.39514916e-02 2.59334768e-04 6.16497800e-03 2.56767097e-06\n",
      "  2.56767097e-06]\n",
      " [2.13329693e-06 2.15462989e-04 2.13329693e-06 2.13329693e-06\n",
      "  2.13329693e-06]\n",
      " [2.10678004e-06 2.10678004e-06 2.10678004e-06 1.32748210e-02\n",
      "  2.10678004e-06]]\n",
      "topic: 0 sum: 0.9999999999998976\n",
      "topic: 1 sum: 1.000000000000075\n",
      "topic: 2 sum: 1.0000000000001525\n",
      "topic: 3 sum: 1.0\n",
      "topic: 4 sum: 0.9999999999998913\n"
     ]
    }
   ],
   "source": [
    "# Topic-Word分布 #topic word 對照表\n",
    "topic_word = model.topic_word_\n",
    "print(\"type(topic_word): {}\".format(type(topic_word)))\n",
    "print(\"shape: {}\".format(topic_word.shape)) #(topic數,詞彙數)\n",
    "print(vocab[:5])\n",
    "print(topic_word[:, :5])\n",
    "\n",
    "for n in range(5):\n",
    "    sum_pr = sum(topic_word[n,:])\n",
    "    print(\"topic: {} sum: {}\".format(n, sum_pr))\n"
   ]
  },
  {
   "cell_type": "code",
   "execution_count": 79,
   "metadata": {},
   "outputs": [
    {
     "name": "stdout",
     "output_type": "stream",
     "text": [
      "*Topic 0\n",
      "- church died family service funeral\n",
      "*Topic 1\n",
      "- film people director festival won\n",
      "*Topic 2\n",
      "- elvis music first fans used\n",
      "*Topic 3\n",
      "- yeltsin russian russia president kremlin\n",
      "*Topic 4\n",
      "- against france french national say\n",
      "*Topic 5\n",
      "- city police art miami churches\n",
      "*Topic 6\n",
      "- people south last city town\n",
      "*Topic 7\n",
      "- million went party british top\n",
      "*Topic 8\n",
      "- charles prince royal diana queen\n",
      "*Topic 9\n",
      "- king marriage british media michael\n",
      "*Topic 10\n",
      "- pope vatican john paul during\n",
      "*Topic 11\n",
      "- minister political president peace government\n",
      "*Topic 12\n",
      "- years time first during very\n",
      "*Topic 13\n",
      "- mother teresa order heart charity\n",
      "*Topic 14\n",
      "- pope surgery hospital year tuesday\n",
      "*Topic 15\n",
      "- war germany german christian letter\n",
      "*Topic 16\n",
      "- simpson found including official law\n",
      "*Topic 17\n",
      "- church catholic cardinal life bernardin\n",
      "*Topic 18\n",
      "- u.s harriman clinton churchill ambassador\n",
      "*Topic 19\n",
      "- n't year television show says\n"
     ]
    }
   ],
   "source": [
    "n = 5\n",
    "for i, topic_dist in enumerate(topic_word):\n",
    "    topic_words = np.array(vocab)[np.argsort(topic_dist)][:-(n+1):-1]\n",
    "    print('*Topic {}\\n- {}'.format(i, ' '.join(topic_words)))\n",
    "    \n",
    "#出來的字無法代表啥，須自己去解釋"
   ]
  },
  {
   "cell_type": "code",
   "execution_count": 73,
   "metadata": {},
   "outputs": [
    {
     "name": "stdout",
     "output_type": "stream",
     "text": [
      "type(doc_topic): <class 'numpy.ndarray'>\n",
      "shape: (51, 20)\n",
      "doc: 0 topic: 11\n",
      "doc: 1 topic: 19\n",
      "doc: 2 topic: 7\n",
      "doc: 3 topic: 2\n",
      "doc: 4 topic: 4\n",
      "doc: 5 topic: 1\n",
      "doc: 6 topic: 10\n",
      "doc: 7 topic: 17\n",
      "doc: 8 topic: 19\n",
      "doc: 9 topic: 4\n"
     ]
    }
   ],
   "source": [
    "# Doc-Topic分布\n",
    "doc_topic = model.doc_topic_\n",
    "print(\"type(doc_topic): {}\".format(type(doc_topic)))\n",
    "print(\"shape: {}\".format(doc_topic.shape))\n",
    "for n in range(10):\n",
    "    topic_most_pr = doc_topic[n].argmax()\n",
    "    print(\"doc: {} topic: {}\".format(n, topic_most_pr))\n"
   ]
  },
  {
   "cell_type": "code",
   "execution_count": 80,
   "metadata": {},
   "outputs": [
    {
     "data": {
      "image/png": "[encoded data removed]",
      "text/plain": [
       "<Figure size 576x432 with 5 Axes>"
      ]
     },
     "metadata": {
      "needs_background": "light"
     },
     "output_type": "display_data"
    },
    {
     "data": {
      "image/png": "[encoded data removed]",
      "text/plain": [
       "<Figure size 576x432 with 5 Axes>"
      ]
     },
     "metadata": {
      "needs_background": "light"
     },
     "output_type": "display_data"
    }
   ],
   "source": [
    "import matplotlib.pyplot as plt\n",
    "# 顯示Document-Topic分布情形\n",
    "f, ax= plt.subplots(5, 1, figsize=(8, 6), sharex=True)\n",
    "for i, k in enumerate([1, 3, 4, 8, 9]):\n",
    "    ax[i].stem(doc_topic[k,:], linefmt='r-',\n",
    "               markerfmt='ro', basefmt='w-')\n",
    "    ax[i].set_xlim(-1, 21)\n",
    "    ax[i].set_ylim(0, 1)\n",
    "    ax[i].set_ylabel(\"Prob\")\n",
    "    ax[i].set_title(\"Document {}\".format(k))\n",
    " \n",
    "ax[4].set_xlabel(\"Topic\")\n",
    " \n",
    "plt.tight_layout()\n",
    "plt.show()\n",
    "# 顯示Topic-Word的分布情形\n",
    "f, ax= plt.subplots(5, 1, figsize=(8, 6), sharex=True)\n",
    "for i, k in enumerate([0, 5, 9, 14, 19]):\n",
    "    ax[i].stem(topic_word[k,:], linefmt='b-',\n",
    "               markerfmt='bo', basefmt='w-')\n",
    "    ax[i].set_xlim(-50,4350)\n",
    "    ax[i].set_ylim(0, 0.08)\n",
    "    ax[i].set_ylabel(\"Prob\")\n",
    "    ax[i].set_title(\"topic {}\".format(k))\n",
    " \n",
    "ax[4].set_xlabel(\"word\")\n",
    " \n",
    "plt.tight_layout()\n",
    "plt.show()\n",
    "\n",
    "\n"
   ]
  },
  {
   "cell_type": "code",
   "execution_count": null,
   "metadata": {},
   "outputs": [],
   "source": []
  }
 ],
 "metadata": {
  "kernelspec": {
   "display_name": "Python 3",
   "language": "python",
   "name": "python3"
  },
  "language_info": {
   "codemirror_mode": {
    "name": "ipython",
    "version": 3
   },
   "file_extension": ".py",
   "mimetype": "text/x-python",
   "name": "python",
   "nbconvert_exporter": "python",
   "pygments_lexer": "ipython3",
   "version": "3.6.5"
  }
 },
 "nbformat": 4,
 "nbformat_minor": 2
}
